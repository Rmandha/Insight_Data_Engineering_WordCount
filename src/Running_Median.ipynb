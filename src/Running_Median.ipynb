{
 "cells": [
  {
   "cell_type": "code",
   "execution_count": null,
   "metadata": {},
   "outputs": [],
   "source": [
    "import glob\n",
    "import os\n",
    "import csv\n",
    "import re\n",
    "import statistics\n",
    "\n",
    "word_count = []\n",
    "curr_median = []\n",
    "\n",
    "#myfiledir = os.getcwd()\n",
    "\n",
    "myfiledir = '/Users/ravikiranmandha/Wc_input/'\n",
    "\n",
    "inputfiles = sorted(glob.glob(os.path.join(myfiledir, '*.txt')))\n",
    "\n",
    "for inputfile in inputfiles:\n",
    "    with open (inputfile, 'r') as f:\n",
    "        for line in f:\n",
    "            line_count = len(line.split())\n",
    "            word_count.append(line_count)\n",
    "            running_median=statistics.median(word_count)\n",
    "            curr_median.append(running_median)  \n",
    "\n",
    "        try:\n",
    "            os.makedirs(\"/Users/ravikiranmandha/Wc_Output/\")\n",
    "        except FileExistsError:\n",
    "    # directory already exists\n",
    "            pass\n",
    "   \n",
    "    with open(\"/Users/ravikiranmandha/Wc_Output/med_result.txt\", \"a\") as f: \n",
    "            for row in curr_median:\n",
    "                print(row, file=f)"
   ]
  }
 ],
 "metadata": {
  "kernelspec": {
   "display_name": "Python 3",
   "language": "python",
   "name": "python3"
  },
  "language_info": {
   "codemirror_mode": {
    "name": "ipython",
    "version": 3
   },
   "file_extension": ".py",
   "mimetype": "text/x-python",
   "name": "python",
   "nbconvert_exporter": "python",
   "pygments_lexer": "ipython3",
   "version": "3.6.4"
  }
 },
 "nbformat": 4,
 "nbformat_minor": 2
}
