{
 "cells": [
  {
   "cell_type": "code",
   "execution_count": 12,
   "metadata": {},
   "outputs": [
    {
     "name": "stdout",
     "output_type": "stream",
     "text": [
      "We're\n"
     ]
    },
    {
     "data": {
      "text/plain": [
       "'for word in text:\\n    mod_word = re.sub(r\\'[^\\\\w\\\\sp{P}][0-9][!#?,.:\";]\\',\\'\\',word)\\n    \\n    mod_word = [re.sub(\\'[!#?,.:\";]\\', \\'\\', word) for word in text]\\n\\n    if mod_word not in unique_list:\\n        unique_list.append(mod_word)\\n        word_dict[mod_word] = 1\\n    else:\\n        word_dict[mod_word] += 1\\n\\nprint(unique_list)\\n\\ntry:\\n            os.makedirs(\"/Users/ravikiranmandha/Wc_Output/\")\\n        except FileExistsError:\\n    # directory already exists\\n            pass\\n\\nfor key in sorted(word_dict.keys()):      \\n        with open(\"/Users/ravikiranmandha/Wc_Output/wc_result.txt\", \"a\") as f: \\n            print(\"%s        %s\" % (key, word_dict[key]), file=f)'"
      ]
     },
     "execution_count": 12,
     "metadata": {},
     "output_type": "execute_result"
    }
   ],
   "source": [
    "import re\n",
    "s = \"We're\"\n",
    "\n",
    "mod_word = re.sub(r\"[-!#?,.:;']\",'',s)\n",
    "\n",
    "print(mod_word)\n",
    "\n",
    "'''for word in text:\n",
    "    mod_word = re.sub(r'[^\\w\\sp{P}][0-9][!#?,.:\";]','',word)\n",
    "    \n",
    "    mod_word = [re.sub('[!#?,.:\";]', '', word) for word in text]\n",
    "\n",
    "    if mod_word not in unique_list:\n",
    "        unique_list.append(mod_word)\n",
    "        word_dict[mod_word] = 1\n",
    "    else:\n",
    "        word_dict[mod_word] += 1\n",
    "\n",
    "print(unique_list)\n",
    "\n",
    "try:\n",
    "            os.makedirs(\"/Users/ravikiranmandha/Wc_Output/\")\n",
    "        except FileExistsError:\n",
    "    # directory already exists\n",
    "            pass\n",
    "\n",
    "for key in sorted(word_dict.keys()):      \n",
    "        with open(\"/Users/ravikiranmandha/Wc_Output/wc_result.txt\", \"a\") as f: \n",
    "            print(\"%s        %s\" % (key, word_dict[key]), file=f)'''\n",
    "\n"
   ]
  }
 ],
 "metadata": {
  "kernelspec": {
   "display_name": "Python 3",
   "language": "python",
   "name": "python3"
  },
  "language_info": {
   "codemirror_mode": {
    "name": "ipython",
    "version": 3
   },
   "file_extension": ".py",
   "mimetype": "text/x-python",
   "name": "python",
   "nbconvert_exporter": "python",
   "pygments_lexer": "ipython3",
   "version": "3.6.4"
  }
 },
 "nbformat": 4,
 "nbformat_minor": 2
}
