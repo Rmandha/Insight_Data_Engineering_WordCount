{
 "cells": [
  {
   "cell_type": "code",
   "execution_count": 47,
   "metadata": {
    "scrolled": true
   },
   "outputs": [],
   "source": [
    "import glob\n",
    "import os\n",
    "import csv\n",
    "import re\n",
    "\n",
    "unique_list = []\n",
    "word_dict = {}\n",
    "\n",
    "#myfiledir = os.getcwd()\n",
    "\n",
    "myfiledir = '/Users/ravikiranmandha/Wc_input/'\n",
    "\n",
    "inputfiles = sorted(glob.glob(os.path.join(myfiledir, '*.txt')))\n",
    "\n",
    "for inputfile in inputfiles:\n",
    "    with open (inputfile, 'r') as f:\n",
    "        #text = [word.lower() for line in f for word in line.split()]\n",
    "        for line in f:\n",
    "            for word in line.split():\n",
    "                mod_word = re.sub(r\"([—!#?,.:';]|[0-9]|[^\\w\\sp{P}])\",'',word.lower())\n",
    "                if mod_word not in unique_list:\n",
    "                    unique_list.append(mod_word)\n",
    "                    word_dict[mod_word] = 1\n",
    "                else:\n",
    "                    word_dict[mod_word] += 1\n",
    "\n",
    "        try:\n",
    "            os.makedirs(\"/Users/ravikiranmandha/Wc_Output/\")\n",
    "        except FileExistsError:\n",
    "    # directory already exists\n",
    "            pass\n",
    "\n",
    "for key in sorted(word_dict.keys()):      \n",
    "        with open(\"/Users/ravikiranmandha/Wc_Output/wc_result.txt\", \"a\") as f: \n",
    "            print(\"%s        %s\" % (key, word_dict[key]), file=f)\n",
    "\n",
    "\n",
    "              \n"
   ]
  },
  {
   "cell_type": "code",
   "execution_count": null,
   "metadata": {},
   "outputs": [],
   "source": []
  }
 ],
 "metadata": {
  "kernelspec": {
   "display_name": "Python 3",
   "language": "python",
   "name": "python3"
  },
  "language_info": {
   "codemirror_mode": {
    "name": "ipython",
    "version": 3
   },
   "file_extension": ".py",
   "mimetype": "text/x-python",
   "name": "python",
   "nbconvert_exporter": "python",
   "pygments_lexer": "ipython3",
   "version": "3.6.4"
  }
 },
 "nbformat": 4,
 "nbformat_minor": 2
}
